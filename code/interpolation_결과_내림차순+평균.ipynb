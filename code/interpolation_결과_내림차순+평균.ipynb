{
  "nbformat": 4,
  "nbformat_minor": 0,
  "metadata": {
    "colab": {
      "name": "interpolation 결과 내림차순+평균",
      "version": "0.3.2",
      "provenance": [],
      "collapsed_sections": []
    },
    "kernelspec": {
      "name": "python3",
      "display_name": "Python 3"
    }
  },
  "cells": [
    {
      "cell_type": "code",
      "metadata": {
        "id": "8yUwKA1fIfTb",
        "colab_type": "code",
        "outputId": "940f9a16-c31f-4b87-ab1a-8163ef7e6e17",
        "colab": {
          "base_uri": "https://localhost:8080/",
          "height": 55
        }
      },
      "source": [
        "# 구글 드라이브 연동\n",
        "\n",
        "from google.colab import auth\n",
        "auth.authenticate_user()\n",
        "\n",
        "from google.colab import drive\n",
        "drive.mount('/content/gdrive')"
      ],
      "execution_count": 0,
      "outputs": [
        {
          "output_type": "stream",
          "text": [
            "Drive already mounted at /content/gdrive; to attempt to forcibly remount, call drive.mount(\"/content/gdrive\", force_remount=True).\n"
          ],
          "name": "stdout"
        }
      ]
    },
    {
      "cell_type": "code",
      "metadata": {
        "id": "O0Py-UhH3vLH",
        "colab_type": "code",
        "colab": {}
      },
      "source": [
        "import pandas as pd\n",
        "import numpy as np\n",
        "import os\n",
        "\n",
        "# 서울에 있는 cell만 뽑기\n",
        "os.chdir('/content/gdrive/My Drive/DS')\n",
        "seoul = pd.read_csv(\"좌표→행정구역(서울만).csv\")[['x_grid', 'y_grid']]\n",
        "seoul = seoul.values.tolist()"
      ],
      "execution_count": 0,
      "outputs": []
    },
    {
      "cell_type": "code",
      "metadata": {
        "id": "GnnNt43cEMr9",
        "colab_type": "code",
        "colab": {}
      },
      "source": [
        "# 파일마다 내림차순으로 정렬\n",
        "os.chdir('/content/gdrive/My Drive/DS/PM10 interpolation2')\n",
        "filenames = os.listdir()\n",
        "\n",
        "for f in filenames:\n",
        "  data = pd.read_csv(f, header=None)\n",
        "  dust_rank = []\n",
        "  \n",
        "  for x in range(43):\n",
        "    for y in range(29):\n",
        "      if [x, y] in seoul: \n",
        "        dust_rank.append([x, y, data[x][y]])\n",
        "      \n",
        "  dust_rank.sort(key=(lambda arr: arr[2]), reverse=True)\n",
        "  pd.DataFrame(dust_rank).to_csv(\"../interpolation 결과 내림차순/{f}\".format(f=f), header=None)"
      ],
      "execution_count": 0,
      "outputs": []
    },
    {
      "cell_type": "code",
      "metadata": {
        "id": "g1y3U2KrVycU",
        "colab_type": "code",
        "colab": {}
      },
      "source": [
        "# 7시, 19시 평균\n",
        "os.chdir('/content/gdrive/My Drive/DS/PM10 interpolation2')\n",
        "filenames = [f for f in os.listdir() if \" 7:00\" in f or \" 19:00\" in f]\n",
        "\n",
        "dust_sum = np.zeros((43, 29), dtype=int)\n",
        "\n",
        "for f in filenames:\n",
        "  data = pd.read_csv(f, header=None)\n",
        "  \n",
        "  for x in range(43):\n",
        "    for y in range(29):\n",
        "      if [x, y] in seoul:\n",
        "        dust_sum[x][y] += data[x][y]\n",
        "\n",
        "dust_rank = [[x, y, (dust_sum[x][y]/len(filenames))] for x in range(43) for y in range(29)]\n",
        "dust_rank.sort(key=(lambda arr: arr[2]), reverse=True)\n",
        "pd.DataFrame(dust_rank).to_csv(\"7시 19시 평균~~.csv\".format(f=f), header=None)"
      ],
      "execution_count": 0,
      "outputs": []
    }
  ]
}
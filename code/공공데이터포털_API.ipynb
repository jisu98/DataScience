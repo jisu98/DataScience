{
  "nbformat": 4,
  "nbformat_minor": 0,
  "metadata": {
    "colab": {
      "name": "공공데이터포털 API",
      "version": "0.3.2",
      "provenance": [],
      "collapsed_sections": []
    },
    "kernelspec": {
      "name": "python3",
      "display_name": "Python 3"
    }
  },
  "cells": [
    {
      "cell_type": "code",
      "metadata": {
        "id": "s4YwYnE1afnf",
        "colab_type": "code",
        "outputId": "993941ba-8465-4151-cc88-5b998548e6be",
        "colab": {
          "base_uri": "https://localhost:8080/",
          "height": 126
        }
      },
      "source": [
        "# 구글 드라이브 연동\n",
        "\n",
        "from google.colab import auth\n",
        "auth.authenticate_user()\n",
        "\n",
        "from google.colab import drive\n",
        "drive.mount('/content/gdrive')"
      ],
      "execution_count": 0,
      "outputs": [
        {
          "output_type": "stream",
          "text": [
            "Go to this URL in a browser: https://accounts.google.com/o/oauth2/auth?client_id=947318989803-6bn6qk8qdgf4n4g3pfee6491hc0brc4i.apps.googleusercontent.com&redirect_uri=urn%3Aietf%3Awg%3Aoauth%3A2.0%3Aoob&scope=email%20https%3A%2F%2Fwww.googleapis.com%2Fauth%2Fdocs.test%20https%3A%2F%2Fwww.googleapis.com%2Fauth%2Fdrive%20https%3A%2F%2Fwww.googleapis.com%2Fauth%2Fdrive.photos.readonly%20https%3A%2F%2Fwww.googleapis.com%2Fauth%2Fpeopleapi.readonly&response_type=code\n",
            "\n",
            "Enter your authorization code:\n",
            "··········\n",
            "Mounted at /content/gdrive\n"
          ],
          "name": "stdout"
        }
      ]
    },
    {
      "cell_type": "code",
      "metadata": {
        "id": "P9xcHtpTag6F",
        "colab_type": "code",
        "colab": {}
      },
      "source": [
        "import requests\n",
        "import csv\n",
        "import os\n",
        "import json"
      ],
      "execution_count": 0,
      "outputs": []
    },
    {
      "cell_type": "code",
      "metadata": {
        "colab_type": "code",
        "id": "NjbaokEKKxmL",
        "colab": {}
      },
      "source": [
        "key = '여기에 발급받은 키를 넣어주세요'\n",
        "fieldnames = ['returnType','coGrade','coValue','dataTerm','dataTime','khaiGrade','khaiValue','mangName','no2Grade','no2Value','numOfRows','o3Grade','o3Value','pageNo','pm10Grade','pm10Grade1h','pm10Value','pm10Value24','pm25Grade','pm25Grade1h','pm25Value','pm25Value24','resultCode','resultMsg','rnum','serviceKey','sidoName','so2Grade','so2Value','stationCode','stationName','totalCount','ver']\n",
        "stationNameList = ['강남구','강동구','강북구','강서구','관악구','광진구','구로구','금천구','노원구','도봉구','동대문구','동작구','마포구','서대문구','서초구','성동구','성북구','송파구','양천구','영등포구','용산구','은평구','종로구','중구','중랑구']\n",
        "\n",
        "for stationName in stationNameList: \n",
        "  os.chdir('/content/gdrive/My Drive/DS/미세먼지')\n",
        "  \n",
        "  filename = '{stationName}.csv'.format(stationName=stationName)\n",
        "  \n",
        "  with open(filename, mode='w') as csv_file:\n",
        "    writer = csv.writer(csv_file)\n",
        "    writer.writerow(fieldnames)\n",
        "\n",
        "    page = 1\n",
        "    while page <= 90:\n",
        "\n",
        "      result = requests.get((\"http://openapi.airkorea.or.kr/openapi/services/rest/ArpltnInforInqireSvc/getMsrstnAcctoRltmMesureDnsty?stationName={stationName}&dataTerm=3MONTH&pageNo={page}&numOfRows=24&ServiceKey={key}&ver=1.3&_returnType=json\").format(stationName=stationName,page=page,key=key)).json()\n",
        "      records = result['list']\n",
        "\n",
        "      for r in records:\n",
        "        writer.writerow(list(r.values()))\n",
        "\n",
        "      page = page + 1"
      ],
      "execution_count": 0,
      "outputs": []
    }
  ]
}
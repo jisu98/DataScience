{
  "nbformat": 4,
  "nbformat_minor": 0,
  "metadata": {
    "colab": {
      "name": "좌표->행정구역",
      "version": "0.3.2",
      "provenance": [],
      "collapsed_sections": []
    },
    "kernelspec": {
      "name": "python3",
      "display_name": "Python 3"
    }
  },
  "cells": [
    {
      "cell_type": "code",
      "metadata": {
        "id": "uDA8920vKWOP",
        "colab_type": "code",
        "outputId": "86b2e7f7-b8ee-46d6-83a3-8fb90cbc68ee",
        "colab": {
          "base_uri": "https://localhost:8080/",
          "height": 55
        }
      },
      "source": [
        "# 구글 드라이브 연동\n",
        "\n",
        "from google.colab import auth\n",
        "auth.authenticate_user()\n",
        "\n",
        "from google.colab import drive\n",
        "drive.mount('/content/gdrive')"
      ],
      "execution_count": 0,
      "outputs": [
        {
          "output_type": "stream",
          "text": [
            "Drive already mounted at /content/gdrive; to attempt to forcibly remount, call drive.mount(\"/content/gdrive\", force_remount=True).\n"
          ],
          "name": "stdout"
        }
      ]
    },
    {
      "cell_type": "code",
      "metadata": {
        "id": "jhAEYBwHKn37",
        "colab_type": "code",
        "colab": {}
      },
      "source": [
        "import requests\n",
        "import csv\n",
        "import os\n",
        "\n",
        "os.chdir('/content/gdrive/My Drive/DS')\n",
        "\n",
        "headers = {\n",
        "    'Content-Type': 'application/json; charset=utf-8',\n",
        "    'Authorization': 'KakaoAK 이곳에 발급받은 키가 들어가야 함'\n",
        "}\n",
        "\n",
        "# 좌표 범위\n",
        "x_min = 126.76\n",
        "x_max = 127.19\n",
        "y_min = 37.42\n",
        "y_max = 37.71\n",
        "\n",
        "x_grid = 43\n",
        "y_grid = 29\n",
        "\n",
        "filename = '좌표->행정구역.csv'\n",
        "fieldnames = ['x_grid','y_grid','x','y','address_name']\n",
        "\n",
        "with open(filename, mode='w') as csv_file:\n",
        "  writer = csv.writer(csv_file)\n",
        "  writer.writerow(fieldnames)\n",
        "\n",
        "  for i in range(x_grid):\n",
        "    for j in range(y_grid):\n",
        "      x = x_min + i * 0.01 + 0.005\n",
        "      y = y_min + j * 0.01 + 0.005\n",
        "      \n",
        "      params = {\n",
        "          'x': x,\n",
        "          'y': y\n",
        "      }\n",
        "      \n",
        "      result = requests.get(\"https://dapi.kakao.com/v2/local/geo/coord2regioncode.json\", headers=headers, params=params).json()\n",
        "      \n",
        "      documents = result['documents']\n",
        "      for d in documents:\n",
        "        writer.writerow([i, j, x, y] + list(d.values()))"
      ],
      "execution_count": 0,
      "outputs": []
    }
  ]
}
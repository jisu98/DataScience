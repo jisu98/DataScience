{
  "nbformat": 4,
  "nbformat_minor": 0,
  "metadata": {
    "colab": {
      "name": "카카오 API 서비스(코드)",
      "version": "0.3.2",
      "provenance": [],
      "collapsed_sections": []
    },
    "kernelspec": {
      "name": "python3",
      "display_name": "Python 3"
    },
    "accelerator": "GPU"
  },
  "cells": [
    {
      "cell_type": "code",
      "metadata": {
        "id": "bmoV9jUxKkiY",
        "colab_type": "code",
        "outputId": "b8a0304f-9243-42d1-b85f-ff62f17baf73",
        "colab": {
          "base_uri": "https://localhost:8080/",
          "height": 55
        }
      },
      "source": [
        "# 구글 드라이브 연동\n",
        "\n",
        "from google.colab import auth\n",
        "auth.authenticate_user()\n",
        "\n",
        "from google.colab import drive\n",
        "drive.mount('/content/gdrive')\n",
        "\n",
        "# 서울의 경계좌표\n",
        "\n",
        "long1 = 126.734086\n",
        "long2 = 127.269311\n",
        "lat1 = 37.413294\n",
        "lat2 = 37.715133\n",
        "\n",
        "# 100*100으로 쪼개기\n",
        "long_interval = (long2 - long1) / 100\n",
        "lat_interval = (lat2 - lat1) / 100\n",
        "\n",
        "code = ['여기에', '원하는', '코드명', '이', '형식으로']"
      ],
      "execution_count": 0,
      "outputs": [
        {
          "output_type": "stream",
          "text": [
            "Drive already mounted at /content/gdrive; to attempt to forcibly remount, call drive.mount(\"/content/gdrive\", force_remount=True).\n"
          ],
          "name": "stdout"
        }
      ]
    },
    {
      "cell_type": "code",
      "metadata": {
        "id": "i6qyY1I0KqV1",
        "colab_type": "code",
        "colab": {}
      },
      "source": [
        "import requests\n",
        "import csv\n",
        "import os\n",
        "\n",
        "os.chdir('/content/gdrive/My Drive/DS')\n",
        "\n",
        "headers = {\n",
        "    'Content-Type': 'application/json; charset=utf-8',\n",
        "    'Authorization': 'KakaoAK 여기에 키가 들어가야 합니다'\n",
        "}\n",
        "\n",
        "page = 1\n",
        "for c in code: \n",
        "  filename = '{code}_2.csv'.format(code=c)\n",
        "  fieldnames = ['x1', 'y1', 'x2', 'y2', 'address_name', 'category_group_code', 'category_group_name', 'category_name', 'distance', 'id', 'phone', 'place_name', 'place_url', 'road_address_name', 'x', 'y']\n",
        "  \n",
        "  with open(filename, mode='w') as csv_file:\n",
        "    writer = csv.writer(csv_file)\n",
        "    writer.writerow(fieldnames)\n",
        "\n",
        "    # !!!이어서!!!\n",
        "    i = 60\n",
        "    j = 22\n",
        "    # !!!이어서 !!!\n",
        "    \n",
        "    while i < 100:\n",
        "      while j < 100:\n",
        "        x1 = str(long1 + long_interval * i)\n",
        "        y1 = str(lat1 + lat_interval * j)\n",
        "        x2 = str(long1 + long_interval * (i+1))\n",
        "        y2 = str(lat1 + lat_interval * (j+1))\n",
        "\n",
        "        params = {\n",
        "            'category_group_code': c,\n",
        "            'rect': \",\".join([x1,y1,x2,y2]),\n",
        "            'page': page\n",
        "        }\n",
        "\n",
        "        result = requests.get(\"https://dapi.kakao.com/v2/local/search/category.json\", headers=headers, params=params).json()\n",
        "        documents = result['documents']\n",
        "        meta = result['meta']\n",
        "        for d in documents:\n",
        "          writer.writerow([x1, y1, x2, y2] + list(d.values()))\n",
        "          \n",
        "\n",
        "        if meta[\"is_end\"] == True:\n",
        "          j = j + 1\n",
        "          page = 1\n",
        "        else:\n",
        "          page = page + 1\n",
        "      i = i + 1;\n",
        "      j = 0;"
      ],
      "execution_count": 0,
      "outputs": []
    }
  ]
}
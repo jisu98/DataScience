{
  "nbformat": 4,
  "nbformat_minor": 0,
  "metadata": {
    "colab": {
      "name": "카카오 API 서비스(키워드)",
      "version": "0.3.2",
      "provenance": [],
      "collapsed_sections": []
    },
    "kernelspec": {
      "name": "python3",
      "display_name": "Python 3"
    },
    "accelerator": "GPU"
  },
  "cells": [
    {
      "cell_type": "code",
      "metadata": {
        "id": "aqJZbaoafFGe",
        "colab_type": "code",
        "colab": {}
      },
      "source": [
        "# 서울의 경계좌표\n",
        "\n",
        "long1 = 126.734086\n",
        "long2 = 127.269311\n",
        "lat1 = 37.413294\n",
        "lat2 = 37.715133\n",
        "\n",
        "# 100*100으로 쪼개기\n",
        "long_interval = (long2 - long1) / 100\n",
        "lat_interval = (lat2 - lat1) / 100"
      ],
      "execution_count": 0,
      "outputs": []
    },
    {
      "cell_type": "code",
      "metadata": {
        "id": "zHaEegpVfXSU",
        "colab_type": "code",
        "colab": {}
      },
      "source": [
        "import requests\n",
        "import csv\n",
        "import os\n",
        "\n",
        "os.chdir('/content/gdrive/My Drive/DS')\n",
        "\n",
        "headers = {\n",
        "    'Content-Type': 'application/json; charset=utf-8',\n",
        "    'Authorization': 'KakaoAK 여기에 발급받은 키'\n",
        "}\n"
      ],
      "execution_count": 0,
      "outputs": []
    },
    {
      "cell_type": "code",
      "metadata": {
        "id": "morDN77Afbo3",
        "colab_type": "code",
        "outputId": "0dc4992f-fa15-40a5-ddf2-685e007115d9",
        "colab": {
          "base_uri": "https://localhost:8080/",
          "height": 55
        }
      },
      "source": [
        "keyword = [\"여기에\", \"원하는\", \"키워드\"]\n",
        "\n",
        "for k in keyword: \n",
        "  filename = '{keyword}_2.csv'.format(keyword=k)\n",
        "  fieldnames = ['x1', 'y1', 'x2', 'y2', 'place_name', 'distance', 'place_url', 'category_name', 'address_name', 'road_address_name', 'id', 'phone', 'category_group_code', 'category_group_name', 'x', 'y']\n",
        "  \n",
        "  with open(filename, mode='w') as csv_file:\n",
        "    writer = csv.writer(csv_file)\n",
        "    writer.writerow(fieldnames)\n",
        "\n",
        "    i = 97\n",
        "    j = 2\n",
        "    \n",
        "    while i < 100:\n",
        "      while j < 100:\n",
        "        x1 = str(long1 + long_interval * i)\n",
        "        y1 = str(lat1 + lat_interval * j)\n",
        "        x2 = str(long1 + long_interval * (i+1))\n",
        "        y2 = str(lat1 + lat_interval * (j+1))\n",
        "\n",
        "        params = {\n",
        "            'query': k,\n",
        "            'rect': \",\".join([x1,y1,x2,y2])\n",
        "        }\n",
        "\n",
        "        result = requests.get(\"https://dapi.kakao.com/v2/local/search/keyword.json\", headers=headers, params=params).json()\n",
        "        documents = result['documents']\n",
        "        #meta = result['meta']\n",
        "        for d in documents:\n",
        "          writer.writerow([x1, y1, x2, y2] + list(d.values()))\n",
        "          print([x1, y1, x2, y2] + list(d.values()))\n",
        "        j = j + 1\n",
        "      \n",
        "      i += 1\n",
        "      j = 0"
      ],
      "execution_count": 0,
      "outputs": [
        {
          "output_type": "stream",
          "text": [
            "['127.25325425', '37.41933078', '127.2586065', '37.422349170000004', '경기 광주시 송정동 222', '', '', '교통,수송 > 운송', '', '12456419', '', '대원고속 지사', 'http://place.map.kakao.com/12456419', '경기 광주시 광주대로 171', '127.258011717764', '37.4211166386356']\n"
          ],
          "name": "stdout"
        }
      ]
    }
  ]
}